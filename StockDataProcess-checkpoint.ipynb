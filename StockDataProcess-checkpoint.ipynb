{
 "cells": [
  {
   "cell_type": "code",
   "execution_count": 1,
   "metadata": {},
   "outputs": [],
   "source": [
    "import os"
   ]
  },
  {
   "cell_type": "code",
   "execution_count": 8,
   "metadata": {},
   "outputs": [],
   "source": [
    "import pandas as pd\n",
    "import numpy as np\n",
    "import datetime"
   ]
  },
  {
   "cell_type": "code",
   "execution_count": 2,
   "metadata": {},
   "outputs": [],
   "source": [
    "filename=os.listdir(\"E://notebook/shsz_stockdata/alldata/\")"
   ]
  },
  {
   "cell_type": "code",
   "execution_count": 5,
   "metadata": {},
   "outputs": [],
   "source": [
    "dirname=\"E://notebook/shsz_stockdata/alldata/\""
   ]
  },
  {
   "cell_type": "code",
   "execution_count": 11,
   "metadata": {},
   "outputs": [],
   "source": [
    "newindex=['Code', 'Name', 'Date', 'Industry', 'Concept', 'Region', 'Open', 'High', 'Low',\n",
    "       'Close', 'AfterPrice', 'PrePrice', 'Limit', 'Volume', 'Amount', 'HandoverRate', 'CurrentMarket', 'TotalMarket',\n",
    "       'TopLimit', 'BottomLimit', 'PETTM', 'PriceSaleTTM', 'CurrentTTM', 'PriceToBook', 'MA_5', 'MA_10',\n",
    "       'MA_20', 'MA_30', 'MA_60', 'MA_GCD', 'MACD_DIF', 'MACD_DEA',\n",
    "       'MACD_MACD', 'MACD_GCD', 'KDJ_K', 'KDJ_D', 'KDJ_J', 'KDJ_GCD',\n",
    "       'BrinlineMiddle', 'BrinlineUp', 'BrinlineDown', 'psy', 'psyma', 'rsi1', 'rsi2', 'rsi3', 'Amplitude',\n",
    "       'QuantityRelativeRatio']"
   ]
  },
  {
   "cell_type": "code",
   "execution_count": 12,
   "metadata": {},
   "outputs": [
    {
     "name": "stdout",
     "output_type": "stream",
     "text": [
      "3600\n"
     ]
    }
   ],
   "source": [
    "totalnum=len(filename)\n",
    "print(totalnum)"
   ]
  },
  {
   "cell_type": "code",
   "execution_count": 13,
   "metadata": {},
   "outputs": [],
   "source": [
    "def setlabel(x):\n",
    "    if x<=0:\n",
    "        return 0\n",
    "    if x>0 and x<=0.01:\n",
    "        return 1\n",
    "    else:\n",
    "        return 2"
   ]
  },
  {
   "cell_type": "code",
   "execution_count": 28,
   "metadata": {},
   "outputs": [
    {
     "name": "stdout",
     "output_type": "stream",
     "text": [
      "progress: 0 over 3600\n",
      "progress: 1 over 3600\n",
      "progress: 2 over 3600\n"
     ]
    }
   ],
   "source": [
    "alldata=pd.DataFrame()\n",
    "#range(filename)\n",
    "for i in range(len(filename)):\n",
    "    try:\n",
    "        path=os.path.join(dirname,filename[i])\n",
    "        data=pd.read_csv(path,encoding=\"gb2312\")\n",
    "        data.columns=newindex\n",
    "        data[\"Date\"]=pd.to_datetime(data[\"Date\"])\n",
    "        data=data.set_index(\"Date\",drop=True)\n",
    "        data=data.sort_index(ascending=True)\n",
    "        data[\"Label\"]=data[\"Limit\"].apply(setlabel)\n",
    "        print(\"progress:\",i,\"over\",len(filename))\n",
    "        alldata=pd.concat([alldata,data],axis=0)\n",
    "    except:\n",
    "        print(\"*****************************************ERROR******************************\",filename[i])\n",
    "        continue\n",
    "alldata.to_csv(\"E://notebook/shsz_stockdata/SHSZ_Allstockdata_Version1.csv\")"
   ]
  }
 ],
 "metadata": {
  "kernelspec": {
   "display_name": "Python 3",
   "language": "python",
   "name": "python3"
  },
  "language_info": {
   "codemirror_mode": {
    "name": "ipython",
    "version": 3
   },
   "file_extension": ".py",
   "mimetype": "text/x-python",
   "name": "python",
   "nbconvert_exporter": "python",
   "pygments_lexer": "ipython3",
   "version": "3.7.3"
  }
 },
 "nbformat": 4,
 "nbformat_minor": 2
}
